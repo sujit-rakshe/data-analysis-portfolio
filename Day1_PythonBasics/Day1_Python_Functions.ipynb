{
  "nbformat": 4,
  "nbformat_minor": 0,
  "metadata": {
    "colab": {
      "provenance": []
    },
    "kernelspec": {
      "name": "python3",
      "display_name": "Python 3"
    },
    "language_info": {
      "name": "python"
    }
  },
  "cells": [
    {
      "cell_type": "code",
      "execution_count": 2,
      "metadata": {
        "id": "LUkKezaIgYfY"
      },
      "outputs": [],
      "source": [
        "def list_Info(numbers):\n",
        "  # Calculate the sum of all numbers in the list\n",
        "  total = sum(numbers)\n",
        "\n",
        "  # Calculate the Average: total diveded by number of elements\n",
        "  average = total / len(numbers)\n",
        "\n",
        "  # Find the Maximim number in list\n",
        "  maximum = max(numbers)\n",
        "\n",
        "  # Find the Maximim number in list\n",
        "  minimum = min(numbers)\n",
        "\n",
        "  # Print result\n",
        "  print(\"Sum is: \",total)\n",
        "  print(\"Average is: \",average)\n",
        "  print(\"Maximum is: \",maximum)\n",
        "  print(\"Minimum is: \",minimum)"
      ]
    },
    {
      "cell_type": "code",
      "source": [
        "l1 = [4,5,4,8,63,74,7,6,1,8,2,4,6,8,1,5,54,5]\n",
        "list_Info(l1)"
      ],
      "metadata": {
        "colab": {
          "base_uri": "https://localhost:8080/"
        },
        "id": "JO9ZcSEEjaj3",
        "outputId": "1cbf41e0-17b9-472f-9af1-4fb31f584e5a"
      },
      "execution_count": 3,
      "outputs": [
        {
          "output_type": "stream",
          "name": "stdout",
          "text": [
            "Sum is:  265\n",
            "Average is:  14.722222222222221\n",
            "Maximum is:  74\n",
            "Minimum is:  1\n"
          ]
        }
      ]
    },
    {
      "cell_type": "code",
      "source": [],
      "metadata": {
        "id": "DkliavqmjuWJ"
      },
      "execution_count": null,
      "outputs": []
    }
  ]
}